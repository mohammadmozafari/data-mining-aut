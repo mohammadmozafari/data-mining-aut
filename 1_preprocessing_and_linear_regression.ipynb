{
 "metadata": {
  "language_info": {
   "codemirror_mode": {
    "name": "ipython",
    "version": 3
   },
   "file_extension": ".py",
   "mimetype": "text/x-python",
   "name": "python",
   "nbconvert_exporter": "python",
   "pygments_lexer": "ipython3",
   "version": "3.7.3-final"
  },
  "orig_nbformat": 2,
  "kernelspec": {
   "name": "Python 3.7.3 64-bit ('cs231n': conda)",
   "display_name": "Python 3.7.3 64-bit ('cs231n': conda)",
   "metadata": {
    "interpreter": {
     "hash": "818dd9f29eb8b9f4176cac8618347dba68cc82d46fab8fe0c5b8851c320da5b0"
    }
   }
  }
 },
 "nbformat": 4,
 "nbformat_minor": 2,
 "cells": [
  {
   "cell_type": "code",
   "execution_count": 2,
   "metadata": {},
   "outputs": [],
   "source": [
    "import pandas as pd"
   ]
  },
  {
   "cell_type": "code",
   "execution_count": 3,
   "metadata": {},
   "outputs": [
    {
     "output_type": "execute_result",
     "data": {
      "text/plain": [
       "      id     sex  birth_year country               region  \\\n",
       "0      1  female      1984.0   China  filtered at airport   \n",
       "1      2    male      1964.0   Korea  filtered at airport   \n",
       "2      3    male      1966.0   Korea         capital area   \n",
       "3      4    male      1964.0   Korea         capital area   \n",
       "4      5    male      1987.0   Korea         capital area   \n",
       "5      6    male      1964.0   Korea         capital area   \n",
       "6      7    male      1991.0   Korea         capital area   \n",
       "7      8  female      1957.0   Korea         Jeollabuk-do   \n",
       "8      9  female      1992.0   Korea         capital area   \n",
       "9     10  female      1966.0   Korea         capital area   \n",
       "10    11    male      1995.0   Korea         capital area   \n",
       "11    12    male      1971.0   China         capital area   \n",
       "12    13    male      1992.0   Korea  filtered at airport   \n",
       "13    14  female      1980.0   China         capital area   \n",
       "14    15    male      1977.0   Korea         capital area   \n",
       "15    16  female      1977.0   Korea              Gwangju   \n",
       "16    17    male      1982.0   Korea         capital area   \n",
       "17    18  female      1999.0   Korea              Gwangju   \n",
       "18    19    male      1983.0   Korea         capital area   \n",
       "19    20  female      1978.0   Korea         capital area   \n",
       "20    21  female      1960.0   Korea         capital area   \n",
       "21    22    male      1973.0   Korea              Gwangju   \n",
       "22    23  female      1962.0   China         capital area   \n",
       "23    24    male      1992.0   Korea  filtered at airport   \n",
       "24    25  female      1946.0   Korea         capital area   \n",
       "25    26    male      1968.0   Korea         capital area   \n",
       "26    27  female      1982.0   China         capital area   \n",
       "27    28  female      1989.0   China         capital area   \n",
       "28    29    male      1938.0   Korea         capital area   \n",
       "29    30  female      1952.0   Korea         capital area   \n",
       "..   ...     ...         ...     ...                  ...   \n",
       "146  147    male         NaN   Korea           Gangwon-do   \n",
       "147  148    male      1986.0   Korea                Daegu   \n",
       "148  149  female      1954.0   Korea         capital area   \n",
       "149  150  female      1957.0   Korea     Gyeongsangbuk-do   \n",
       "150  151  female      1959.0   Korea         capital area   \n",
       "151  152    male      1979.0   Korea     Gyeongsangbuk-do   \n",
       "152  153  female      1965.0   Korea     Gyeongsangbuk-do   \n",
       "153  154    male         NaN   Korea     Gyeongsangbuk-do   \n",
       "154  155  female      1968.0   Korea         capital area   \n",
       "155  156    male      1985.0   Korea              Gwangju   \n",
       "156  157    male      1974.0   Korea         capital area   \n",
       "157  158  female      1962.0   Korea     Gyeongsangbuk-do   \n",
       "158  159  female      1957.0   Korea     Gyeongsangbuk-do   \n",
       "159  160  female      1977.0   Korea     Gyeongsangbuk-do   \n",
       "160  161    male      1980.0   Korea         capital area   \n",
       "161  162  female      1969.0   Korea     Gyeongsangbuk-do   \n",
       "162  163    male      1957.0   Korea              Daejeon   \n",
       "163  164    male      1997.0   Korea         capital area   \n",
       "164  165  female      1985.0   Korea              Gwangju   \n",
       "165  166    male         NaN   Korea     Gyeongsangbuk-do   \n",
       "166  167    male      1968.0   Korea         capital area   \n",
       "167  168    male         NaN   Korea     Gyeongsangbuk-do   \n",
       "168  169  female         NaN   Korea     Gyeongsangbuk-do   \n",
       "169  170  female      1993.0   Korea         capital area   \n",
       "170  171    male      1985.0   Korea              Gwangju   \n",
       "171  172  female      1997.0   Korea     Gyeongsangbuk-do   \n",
       "172  173    male      1949.0   Korea                Daegu   \n",
       "173  174  female      1958.0   Korea     Gyeongsangbuk-do   \n",
       "174  175    male      1997.0   Korea     Gyeongsangbuk-do   \n",
       "175  176  female      1950.0   Korea         capital area   \n",
       "\n",
       "                      infection_reason  infected_by confirmed_date     state  \n",
       "0                       visit to Wuhan          NaN      1/20/2020  released  \n",
       "1                       visit to Wuhan          NaN      1/24/2020  released  \n",
       "2                       visit to Wuhan          NaN      1/26/2020  released  \n",
       "3                       visit to Wuhan          NaN      1/27/2020  released  \n",
       "4                       visit to Wuhan          NaN      1/30/2020  released  \n",
       "5                 contact with patient          3.0      1/30/2020  released  \n",
       "6                       visit to Wuhan          NaN      1/30/2020  released  \n",
       "7                       visit to Wuhan          NaN      1/31/2020  released  \n",
       "8                 contact with patient          5.0      1/31/2020  released  \n",
       "9                 contact with patient          6.0      1/31/2020  released  \n",
       "10                contact with patient          6.0      1/31/2020  released  \n",
       "11       contact with patient in Japan          NaN       2/1/2020  released  \n",
       "12                  residence in Wuhan          NaN       2/2/2020  released  \n",
       "13                contact with patient         12.0       2/2/2020  released  \n",
       "14                contact with patient          4.0       2/2/2020  released  \n",
       "15                   visit to Thailand          NaN       2/4/2020  released  \n",
       "16   contact with patient in Singapore          NaN       2/5/2020  released  \n",
       "17                contact with patient         16.0       2/5/2020  released  \n",
       "18   contact with patient in Singapore          NaN       2/5/2020  released  \n",
       "19                contact with patient         15.0       2/5/2020  released  \n",
       "20                contact with patient          6.0       2/5/2020  released  \n",
       "21                contact with patient         16.0       2/6/2020  released  \n",
       "22                      visit to Wuhan          NaN       2/6/2020  released  \n",
       "23                  residence in Wuhan          NaN       2/6/2020  released  \n",
       "24                contact with patient         27.0       2/9/2020  isolated  \n",
       "25                contact with patient         27.0       2/9/2020  isolated  \n",
       "26                      visit to China          NaN       2/9/2020  isolated  \n",
       "27                contact with patient          3.0      2/10/2020  released  \n",
       "28                contact with patient         83.0      2/16/2020  isolated  \n",
       "29                contact with patient         29.0      2/16/2020  isolated  \n",
       "..                                 ...          ...            ...       ...  \n",
       "146                                NaN          NaN      2/22/2020  isolated  \n",
       "147                     visit to Daegu          NaN      2/22/2020  isolated  \n",
       "148                                NaN          NaN      2/22/2020  isolated  \n",
       "149               pilgrimage to Israel          NaN      2/23/2020  isolated  \n",
       "150               contact with patient        246.0      2/23/2020  isolated  \n",
       "151                                NaN          NaN      2/23/2020  deceased  \n",
       "152                                NaN          NaN      2/23/2020  isolated  \n",
       "153                                NaN          NaN      2/23/2020  isolated  \n",
       "154               contact with patient        347.0      2/23/2020  isolated  \n",
       "155               contact with patient        126.0      2/23/2020  isolated  \n",
       "156                     visit to Daegu          NaN      2/23/2020  isolated  \n",
       "157                                NaN          NaN      2/23/2020  isolated  \n",
       "158                                NaN          NaN      2/23/2020  isolated  \n",
       "159                                NaN          NaN      2/23/2020  isolated  \n",
       "160               contact with patient        246.0      2/23/2020  isolated  \n",
       "161                                NaN          NaN      2/23/2020  isolated  \n",
       "162               contact with patient        372.0      2/23/2020  isolated  \n",
       "163                     visit to Daegu          NaN      2/23/2020  isolated  \n",
       "164               contact with patient        126.0      2/23/2020  released  \n",
       "165                                NaN          NaN      2/23/2020  isolated  \n",
       "166                   visit to Vietnam          NaN      2/23/2020  isolated  \n",
       "167                                NaN          NaN      2/24/2020  isolated  \n",
       "168               contact with patient          NaN      2/24/2020  isolated  \n",
       "169                                NaN          NaN      2/24/2020  isolated  \n",
       "170               contact with patient        164.0      2/24/2020  isolated  \n",
       "171                                NaN          NaN      2/24/2020  isolated  \n",
       "172                                NaN          NaN      2/24/2020  deceased  \n",
       "173                                NaN          NaN      2/24/2020  isolated  \n",
       "174                                NaN          NaN      2/24/2020  isolated  \n",
       "175                                NaN          NaN      2/24/2020  isolated  \n",
       "\n",
       "[176 rows x 9 columns]"
      ],
      "text/html": "<div>\n<style scoped>\n    .dataframe tbody tr th:only-of-type {\n        vertical-align: middle;\n    }\n\n    .dataframe tbody tr th {\n        vertical-align: top;\n    }\n\n    .dataframe thead th {\n        text-align: right;\n    }\n</style>\n<table border=\"1\" class=\"dataframe\">\n  <thead>\n    <tr style=\"text-align: right;\">\n      <th></th>\n      <th>id</th>\n      <th>sex</th>\n      <th>birth_year</th>\n      <th>country</th>\n      <th>region</th>\n      <th>infection_reason</th>\n      <th>infected_by</th>\n      <th>confirmed_date</th>\n      <th>state</th>\n    </tr>\n  </thead>\n  <tbody>\n    <tr>\n      <th>0</th>\n      <td>1</td>\n      <td>female</td>\n      <td>1984.0</td>\n      <td>China</td>\n      <td>filtered at airport</td>\n      <td>visit to Wuhan</td>\n      <td>NaN</td>\n      <td>1/20/2020</td>\n      <td>released</td>\n    </tr>\n    <tr>\n      <th>1</th>\n      <td>2</td>\n      <td>male</td>\n      <td>1964.0</td>\n      <td>Korea</td>\n      <td>filtered at airport</td>\n      <td>visit to Wuhan</td>\n      <td>NaN</td>\n      <td>1/24/2020</td>\n      <td>released</td>\n    </tr>\n    <tr>\n      <th>2</th>\n      <td>3</td>\n      <td>male</td>\n      <td>1966.0</td>\n      <td>Korea</td>\n      <td>capital area</td>\n      <td>visit to Wuhan</td>\n      <td>NaN</td>\n      <td>1/26/2020</td>\n      <td>released</td>\n    </tr>\n    <tr>\n      <th>3</th>\n      <td>4</td>\n      <td>male</td>\n      <td>1964.0</td>\n      <td>Korea</td>\n      <td>capital area</td>\n      <td>visit to Wuhan</td>\n      <td>NaN</td>\n      <td>1/27/2020</td>\n      <td>released</td>\n    </tr>\n    <tr>\n      <th>4</th>\n      <td>5</td>\n      <td>male</td>\n      <td>1987.0</td>\n      <td>Korea</td>\n      <td>capital area</td>\n      <td>visit to Wuhan</td>\n      <td>NaN</td>\n      <td>1/30/2020</td>\n      <td>released</td>\n    </tr>\n    <tr>\n      <th>5</th>\n      <td>6</td>\n      <td>male</td>\n      <td>1964.0</td>\n      <td>Korea</td>\n      <td>capital area</td>\n      <td>contact with patient</td>\n      <td>3.0</td>\n      <td>1/30/2020</td>\n      <td>released</td>\n    </tr>\n    <tr>\n      <th>6</th>\n      <td>7</td>\n      <td>male</td>\n      <td>1991.0</td>\n      <td>Korea</td>\n      <td>capital area</td>\n      <td>visit to Wuhan</td>\n      <td>NaN</td>\n      <td>1/30/2020</td>\n      <td>released</td>\n    </tr>\n    <tr>\n      <th>7</th>\n      <td>8</td>\n      <td>female</td>\n      <td>1957.0</td>\n      <td>Korea</td>\n      <td>Jeollabuk-do</td>\n      <td>visit to Wuhan</td>\n      <td>NaN</td>\n      <td>1/31/2020</td>\n      <td>released</td>\n    </tr>\n    <tr>\n      <th>8</th>\n      <td>9</td>\n      <td>female</td>\n      <td>1992.0</td>\n      <td>Korea</td>\n      <td>capital area</td>\n      <td>contact with patient</td>\n      <td>5.0</td>\n      <td>1/31/2020</td>\n      <td>released</td>\n    </tr>\n    <tr>\n      <th>9</th>\n      <td>10</td>\n      <td>female</td>\n      <td>1966.0</td>\n      <td>Korea</td>\n      <td>capital area</td>\n      <td>contact with patient</td>\n      <td>6.0</td>\n      <td>1/31/2020</td>\n      <td>released</td>\n    </tr>\n    <tr>\n      <th>10</th>\n      <td>11</td>\n      <td>male</td>\n      <td>1995.0</td>\n      <td>Korea</td>\n      <td>capital area</td>\n      <td>contact with patient</td>\n      <td>6.0</td>\n      <td>1/31/2020</td>\n      <td>released</td>\n    </tr>\n    <tr>\n      <th>11</th>\n      <td>12</td>\n      <td>male</td>\n      <td>1971.0</td>\n      <td>China</td>\n      <td>capital area</td>\n      <td>contact with patient in Japan</td>\n      <td>NaN</td>\n      <td>2/1/2020</td>\n      <td>released</td>\n    </tr>\n    <tr>\n      <th>12</th>\n      <td>13</td>\n      <td>male</td>\n      <td>1992.0</td>\n      <td>Korea</td>\n      <td>filtered at airport</td>\n      <td>residence in Wuhan</td>\n      <td>NaN</td>\n      <td>2/2/2020</td>\n      <td>released</td>\n    </tr>\n    <tr>\n      <th>13</th>\n      <td>14</td>\n      <td>female</td>\n      <td>1980.0</td>\n      <td>China</td>\n      <td>capital area</td>\n      <td>contact with patient</td>\n      <td>12.0</td>\n      <td>2/2/2020</td>\n      <td>released</td>\n    </tr>\n    <tr>\n      <th>14</th>\n      <td>15</td>\n      <td>male</td>\n      <td>1977.0</td>\n      <td>Korea</td>\n      <td>capital area</td>\n      <td>contact with patient</td>\n      <td>4.0</td>\n      <td>2/2/2020</td>\n      <td>released</td>\n    </tr>\n    <tr>\n      <th>15</th>\n      <td>16</td>\n      <td>female</td>\n      <td>1977.0</td>\n      <td>Korea</td>\n      <td>Gwangju</td>\n      <td>visit to Thailand</td>\n      <td>NaN</td>\n      <td>2/4/2020</td>\n      <td>released</td>\n    </tr>\n    <tr>\n      <th>16</th>\n      <td>17</td>\n      <td>male</td>\n      <td>1982.0</td>\n      <td>Korea</td>\n      <td>capital area</td>\n      <td>contact with patient in Singapore</td>\n      <td>NaN</td>\n      <td>2/5/2020</td>\n      <td>released</td>\n    </tr>\n    <tr>\n      <th>17</th>\n      <td>18</td>\n      <td>female</td>\n      <td>1999.0</td>\n      <td>Korea</td>\n      <td>Gwangju</td>\n      <td>contact with patient</td>\n      <td>16.0</td>\n      <td>2/5/2020</td>\n      <td>released</td>\n    </tr>\n    <tr>\n      <th>18</th>\n      <td>19</td>\n      <td>male</td>\n      <td>1983.0</td>\n      <td>Korea</td>\n      <td>capital area</td>\n      <td>contact with patient in Singapore</td>\n      <td>NaN</td>\n      <td>2/5/2020</td>\n      <td>released</td>\n    </tr>\n    <tr>\n      <th>19</th>\n      <td>20</td>\n      <td>female</td>\n      <td>1978.0</td>\n      <td>Korea</td>\n      <td>capital area</td>\n      <td>contact with patient</td>\n      <td>15.0</td>\n      <td>2/5/2020</td>\n      <td>released</td>\n    </tr>\n    <tr>\n      <th>20</th>\n      <td>21</td>\n      <td>female</td>\n      <td>1960.0</td>\n      <td>Korea</td>\n      <td>capital area</td>\n      <td>contact with patient</td>\n      <td>6.0</td>\n      <td>2/5/2020</td>\n      <td>released</td>\n    </tr>\n    <tr>\n      <th>21</th>\n      <td>22</td>\n      <td>male</td>\n      <td>1973.0</td>\n      <td>Korea</td>\n      <td>Gwangju</td>\n      <td>contact with patient</td>\n      <td>16.0</td>\n      <td>2/6/2020</td>\n      <td>released</td>\n    </tr>\n    <tr>\n      <th>22</th>\n      <td>23</td>\n      <td>female</td>\n      <td>1962.0</td>\n      <td>China</td>\n      <td>capital area</td>\n      <td>visit to Wuhan</td>\n      <td>NaN</td>\n      <td>2/6/2020</td>\n      <td>released</td>\n    </tr>\n    <tr>\n      <th>23</th>\n      <td>24</td>\n      <td>male</td>\n      <td>1992.0</td>\n      <td>Korea</td>\n      <td>filtered at airport</td>\n      <td>residence in Wuhan</td>\n      <td>NaN</td>\n      <td>2/6/2020</td>\n      <td>released</td>\n    </tr>\n    <tr>\n      <th>24</th>\n      <td>25</td>\n      <td>female</td>\n      <td>1946.0</td>\n      <td>Korea</td>\n      <td>capital area</td>\n      <td>contact with patient</td>\n      <td>27.0</td>\n      <td>2/9/2020</td>\n      <td>isolated</td>\n    </tr>\n    <tr>\n      <th>25</th>\n      <td>26</td>\n      <td>male</td>\n      <td>1968.0</td>\n      <td>Korea</td>\n      <td>capital area</td>\n      <td>contact with patient</td>\n      <td>27.0</td>\n      <td>2/9/2020</td>\n      <td>isolated</td>\n    </tr>\n    <tr>\n      <th>26</th>\n      <td>27</td>\n      <td>female</td>\n      <td>1982.0</td>\n      <td>China</td>\n      <td>capital area</td>\n      <td>visit to China</td>\n      <td>NaN</td>\n      <td>2/9/2020</td>\n      <td>isolated</td>\n    </tr>\n    <tr>\n      <th>27</th>\n      <td>28</td>\n      <td>female</td>\n      <td>1989.0</td>\n      <td>China</td>\n      <td>capital area</td>\n      <td>contact with patient</td>\n      <td>3.0</td>\n      <td>2/10/2020</td>\n      <td>released</td>\n    </tr>\n    <tr>\n      <th>28</th>\n      <td>29</td>\n      <td>male</td>\n      <td>1938.0</td>\n      <td>Korea</td>\n      <td>capital area</td>\n      <td>contact with patient</td>\n      <td>83.0</td>\n      <td>2/16/2020</td>\n      <td>isolated</td>\n    </tr>\n    <tr>\n      <th>29</th>\n      <td>30</td>\n      <td>female</td>\n      <td>1952.0</td>\n      <td>Korea</td>\n      <td>capital area</td>\n      <td>contact with patient</td>\n      <td>29.0</td>\n      <td>2/16/2020</td>\n      <td>isolated</td>\n    </tr>\n    <tr>\n      <th>...</th>\n      <td>...</td>\n      <td>...</td>\n      <td>...</td>\n      <td>...</td>\n      <td>...</td>\n      <td>...</td>\n      <td>...</td>\n      <td>...</td>\n      <td>...</td>\n    </tr>\n    <tr>\n      <th>146</th>\n      <td>147</td>\n      <td>male</td>\n      <td>NaN</td>\n      <td>Korea</td>\n      <td>Gangwon-do</td>\n      <td>NaN</td>\n      <td>NaN</td>\n      <td>2/22/2020</td>\n      <td>isolated</td>\n    </tr>\n    <tr>\n      <th>147</th>\n      <td>148</td>\n      <td>male</td>\n      <td>1986.0</td>\n      <td>Korea</td>\n      <td>Daegu</td>\n      <td>visit to Daegu</td>\n      <td>NaN</td>\n      <td>2/22/2020</td>\n      <td>isolated</td>\n    </tr>\n    <tr>\n      <th>148</th>\n      <td>149</td>\n      <td>female</td>\n      <td>1954.0</td>\n      <td>Korea</td>\n      <td>capital area</td>\n      <td>NaN</td>\n      <td>NaN</td>\n      <td>2/22/2020</td>\n      <td>isolated</td>\n    </tr>\n    <tr>\n      <th>149</th>\n      <td>150</td>\n      <td>female</td>\n      <td>1957.0</td>\n      <td>Korea</td>\n      <td>Gyeongsangbuk-do</td>\n      <td>pilgrimage to Israel</td>\n      <td>NaN</td>\n      <td>2/23/2020</td>\n      <td>isolated</td>\n    </tr>\n    <tr>\n      <th>150</th>\n      <td>151</td>\n      <td>female</td>\n      <td>1959.0</td>\n      <td>Korea</td>\n      <td>capital area</td>\n      <td>contact with patient</td>\n      <td>246.0</td>\n      <td>2/23/2020</td>\n      <td>isolated</td>\n    </tr>\n    <tr>\n      <th>151</th>\n      <td>152</td>\n      <td>male</td>\n      <td>1979.0</td>\n      <td>Korea</td>\n      <td>Gyeongsangbuk-do</td>\n      <td>NaN</td>\n      <td>NaN</td>\n      <td>2/23/2020</td>\n      <td>deceased</td>\n    </tr>\n    <tr>\n      <th>152</th>\n      <td>153</td>\n      <td>female</td>\n      <td>1965.0</td>\n      <td>Korea</td>\n      <td>Gyeongsangbuk-do</td>\n      <td>NaN</td>\n      <td>NaN</td>\n      <td>2/23/2020</td>\n      <td>isolated</td>\n    </tr>\n    <tr>\n      <th>153</th>\n      <td>154</td>\n      <td>male</td>\n      <td>NaN</td>\n      <td>Korea</td>\n      <td>Gyeongsangbuk-do</td>\n      <td>NaN</td>\n      <td>NaN</td>\n      <td>2/23/2020</td>\n      <td>isolated</td>\n    </tr>\n    <tr>\n      <th>154</th>\n      <td>155</td>\n      <td>female</td>\n      <td>1968.0</td>\n      <td>Korea</td>\n      <td>capital area</td>\n      <td>contact with patient</td>\n      <td>347.0</td>\n      <td>2/23/2020</td>\n      <td>isolated</td>\n    </tr>\n    <tr>\n      <th>155</th>\n      <td>156</td>\n      <td>male</td>\n      <td>1985.0</td>\n      <td>Korea</td>\n      <td>Gwangju</td>\n      <td>contact with patient</td>\n      <td>126.0</td>\n      <td>2/23/2020</td>\n      <td>isolated</td>\n    </tr>\n    <tr>\n      <th>156</th>\n      <td>157</td>\n      <td>male</td>\n      <td>1974.0</td>\n      <td>Korea</td>\n      <td>capital area</td>\n      <td>visit to Daegu</td>\n      <td>NaN</td>\n      <td>2/23/2020</td>\n      <td>isolated</td>\n    </tr>\n    <tr>\n      <th>157</th>\n      <td>158</td>\n      <td>female</td>\n      <td>1962.0</td>\n      <td>Korea</td>\n      <td>Gyeongsangbuk-do</td>\n      <td>NaN</td>\n      <td>NaN</td>\n      <td>2/23/2020</td>\n      <td>isolated</td>\n    </tr>\n    <tr>\n      <th>158</th>\n      <td>159</td>\n      <td>female</td>\n      <td>1957.0</td>\n      <td>Korea</td>\n      <td>Gyeongsangbuk-do</td>\n      <td>NaN</td>\n      <td>NaN</td>\n      <td>2/23/2020</td>\n      <td>isolated</td>\n    </tr>\n    <tr>\n      <th>159</th>\n      <td>160</td>\n      <td>female</td>\n      <td>1977.0</td>\n      <td>Korea</td>\n      <td>Gyeongsangbuk-do</td>\n      <td>NaN</td>\n      <td>NaN</td>\n      <td>2/23/2020</td>\n      <td>isolated</td>\n    </tr>\n    <tr>\n      <th>160</th>\n      <td>161</td>\n      <td>male</td>\n      <td>1980.0</td>\n      <td>Korea</td>\n      <td>capital area</td>\n      <td>contact with patient</td>\n      <td>246.0</td>\n      <td>2/23/2020</td>\n      <td>isolated</td>\n    </tr>\n    <tr>\n      <th>161</th>\n      <td>162</td>\n      <td>female</td>\n      <td>1969.0</td>\n      <td>Korea</td>\n      <td>Gyeongsangbuk-do</td>\n      <td>NaN</td>\n      <td>NaN</td>\n      <td>2/23/2020</td>\n      <td>isolated</td>\n    </tr>\n    <tr>\n      <th>162</th>\n      <td>163</td>\n      <td>male</td>\n      <td>1957.0</td>\n      <td>Korea</td>\n      <td>Daejeon</td>\n      <td>contact with patient</td>\n      <td>372.0</td>\n      <td>2/23/2020</td>\n      <td>isolated</td>\n    </tr>\n    <tr>\n      <th>163</th>\n      <td>164</td>\n      <td>male</td>\n      <td>1997.0</td>\n      <td>Korea</td>\n      <td>capital area</td>\n      <td>visit to Daegu</td>\n      <td>NaN</td>\n      <td>2/23/2020</td>\n      <td>isolated</td>\n    </tr>\n    <tr>\n      <th>164</th>\n      <td>165</td>\n      <td>female</td>\n      <td>1985.0</td>\n      <td>Korea</td>\n      <td>Gwangju</td>\n      <td>contact with patient</td>\n      <td>126.0</td>\n      <td>2/23/2020</td>\n      <td>released</td>\n    </tr>\n    <tr>\n      <th>165</th>\n      <td>166</td>\n      <td>male</td>\n      <td>NaN</td>\n      <td>Korea</td>\n      <td>Gyeongsangbuk-do</td>\n      <td>NaN</td>\n      <td>NaN</td>\n      <td>2/23/2020</td>\n      <td>isolated</td>\n    </tr>\n    <tr>\n      <th>166</th>\n      <td>167</td>\n      <td>male</td>\n      <td>1968.0</td>\n      <td>Korea</td>\n      <td>capital area</td>\n      <td>visit to Vietnam</td>\n      <td>NaN</td>\n      <td>2/23/2020</td>\n      <td>isolated</td>\n    </tr>\n    <tr>\n      <th>167</th>\n      <td>168</td>\n      <td>male</td>\n      <td>NaN</td>\n      <td>Korea</td>\n      <td>Gyeongsangbuk-do</td>\n      <td>NaN</td>\n      <td>NaN</td>\n      <td>2/24/2020</td>\n      <td>isolated</td>\n    </tr>\n    <tr>\n      <th>168</th>\n      <td>169</td>\n      <td>female</td>\n      <td>NaN</td>\n      <td>Korea</td>\n      <td>Gyeongsangbuk-do</td>\n      <td>contact with patient</td>\n      <td>NaN</td>\n      <td>2/24/2020</td>\n      <td>isolated</td>\n    </tr>\n    <tr>\n      <th>169</th>\n      <td>170</td>\n      <td>female</td>\n      <td>1993.0</td>\n      <td>Korea</td>\n      <td>capital area</td>\n      <td>NaN</td>\n      <td>NaN</td>\n      <td>2/24/2020</td>\n      <td>isolated</td>\n    </tr>\n    <tr>\n      <th>170</th>\n      <td>171</td>\n      <td>male</td>\n      <td>1985.0</td>\n      <td>Korea</td>\n      <td>Gwangju</td>\n      <td>contact with patient</td>\n      <td>164.0</td>\n      <td>2/24/2020</td>\n      <td>isolated</td>\n    </tr>\n    <tr>\n      <th>171</th>\n      <td>172</td>\n      <td>female</td>\n      <td>1997.0</td>\n      <td>Korea</td>\n      <td>Gyeongsangbuk-do</td>\n      <td>NaN</td>\n      <td>NaN</td>\n      <td>2/24/2020</td>\n      <td>isolated</td>\n    </tr>\n    <tr>\n      <th>172</th>\n      <td>173</td>\n      <td>male</td>\n      <td>1949.0</td>\n      <td>Korea</td>\n      <td>Daegu</td>\n      <td>NaN</td>\n      <td>NaN</td>\n      <td>2/24/2020</td>\n      <td>deceased</td>\n    </tr>\n    <tr>\n      <th>173</th>\n      <td>174</td>\n      <td>female</td>\n      <td>1958.0</td>\n      <td>Korea</td>\n      <td>Gyeongsangbuk-do</td>\n      <td>NaN</td>\n      <td>NaN</td>\n      <td>2/24/2020</td>\n      <td>isolated</td>\n    </tr>\n    <tr>\n      <th>174</th>\n      <td>175</td>\n      <td>male</td>\n      <td>1997.0</td>\n      <td>Korea</td>\n      <td>Gyeongsangbuk-do</td>\n      <td>NaN</td>\n      <td>NaN</td>\n      <td>2/24/2020</td>\n      <td>isolated</td>\n    </tr>\n    <tr>\n      <th>175</th>\n      <td>176</td>\n      <td>female</td>\n      <td>1950.0</td>\n      <td>Korea</td>\n      <td>capital area</td>\n      <td>NaN</td>\n      <td>NaN</td>\n      <td>2/24/2020</td>\n      <td>isolated</td>\n    </tr>\n  </tbody>\n</table>\n<p>176 rows × 9 columns</p>\n</div>"
     },
     "metadata": {},
     "execution_count": 3
    }
   ],
   "source": [
    "covid = pd.read_csv('data/covid.csv', ',')\n",
    "covid"
   ]
  },
  {
   "cell_type": "code",
   "execution_count": 11,
   "metadata": {},
   "outputs": [
    {
     "output_type": "stream",
     "name": "stdout",
     "text": [
      "Max Birth Year: 2009\nMin Birth Year: 1936\nMean Birth Year: 1973\n"
     ]
    }
   ],
   "source": [
    "birth_years = covid['birth_year']\n",
    "min_birth_year = int(birth_years.min())\n",
    "max_birth_year = int(birth_years.max())\n",
    "mean_birth_year = int(birth_years.mean())\n",
    "print('Max Birth Year: {}'.format(max_birth_year))\n",
    "print('Min Birth Year: {}'.format(min_birth_year))\n",
    "print('Mean Birth Year: {}'.format(mean_birth_year))"
   ]
  },
  {
   "cell_type": "code",
   "execution_count": null,
   "metadata": {},
   "outputs": [],
   "source": []
  }
 ]
}