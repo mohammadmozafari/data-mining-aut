{
 "metadata": {
  "language_info": {
   "codemirror_mode": {
    "name": "ipython",
    "version": 3
   },
   "file_extension": ".py",
   "mimetype": "text/x-python",
   "name": "python",
   "nbconvert_exporter": "python",
   "pygments_lexer": "ipython3",
   "version": "3.7.3-final"
  },
  "orig_nbformat": 2,
  "kernelspec": {
   "name": "python3",
   "display_name": "Python 3",
   "language": "python"
  }
 },
 "nbformat": 4,
 "nbformat_minor": 2,
 "cells": [
  {
   "source": [
    "# ** Question 8 **"
   ],
   "cell_type": "markdown",
   "metadata": {}
  },
  {
   "cell_type": "code",
   "execution_count": 55,
   "metadata": {},
   "outputs": [],
   "source": [
    "import pandas as pd\n",
    "from sklearn.ensemble import RandomForestClassifier\n",
    "from sklearn.model_selection import train_test_split"
   ]
  },
  {
   "cell_type": "code",
   "execution_count": 56,
   "metadata": {},
   "outputs": [],
   "source": [
    "data_path = './titanic/train.csv'"
   ]
  },
  {
   "cell_type": "code",
   "execution_count": 57,
   "metadata": {},
   "outputs": [
    {
     "output_type": "stream",
     "name": "stdout",
     "text": [
      "train x shape: (712, 11)\ntrain y shape: (712, 1)\ntest x shape: (179, 11)\ntest y shape: (179, 1)\n"
     ]
    }
   ],
   "source": [
    "data = pd.read_csv(data_path)\n",
    "train, test = train_test_split(data, test_size=0.2, random_state=0)\n",
    "\n",
    "train_y = train[['Survived']]\n",
    "train_x = train.drop(['Survived'], axis=1)\n",
    "test_y = test[['Survived']]\n",
    "test_x = test.drop(['Survived'], axis=1)\n",
    "\n",
    "print('train x shape:', train_x.shape)\n",
    "print('train y shape:', train_y.shape)\n",
    "print('test x shape:', test_x.shape)\n",
    "print('test y shape:', test_y.shape)"
   ]
  },
  {
   "cell_type": "code",
   "execution_count": 58,
   "metadata": {},
   "outputs": [],
   "source": [
    "def preprocess(ds):\n",
    "\n",
    "    # Age\n",
    "    ds['Age'].fillna(ds['Age'].mean(), inplace=True)\n",
    "    ds.loc[ds['Age'] <= 16, 'Age'] = 0\n",
    "    ds.loc[(ds['Age'] > 16) & (ds['Age'] <= 32), 'Age'] = 1\n",
    "    ds.loc[(ds['Age'] > 32) & (ds['Age'] <= 48), 'Age'] = 2\n",
    "    ds.loc[(ds['Age'] > 48) & (ds['Age'] <= 64), 'Age'] = 3\n",
    "    ds.loc[ds['Age'] > 64, 'Age'] = 4\n",
    "    ds['Age'] = ds['Age'].astype(int)\n",
    "\n",
    "    # Fare\n",
    "    ds['Fare'].fillna(ds['Fare'].mean(), inplace=True)\n",
    "    ds.loc[ds['Fare'] <= 7.91, 'Fare'] = 0\n",
    "    ds.loc[(ds['Fare'] > 7.91) & (ds['Age'] <= 14.454), 'Fare'] = 1\n",
    "    ds.loc[(ds['Fare'] > 14.454) & (ds['Age'] <= 31), 'Fare'] = 2\n",
    "    ds.loc[ds['Fare'] > 31, 'Fare'] = 3\n",
    "    ds['Fare'] = ds['Fare'].astype(int)\n",
    "\n",
    "    # Embark\n",
    "    ds['Embarked'].fillna('S', inplace=True)\n",
    "    ds['Embarked'] = ds['Embarked'].map({'S': 0, 'C': 1, 'Q': 2}).astype(int)\n",
    "    \n",
    "    # FamilyMems & IsAlone\n",
    "    ds['FamilyMems'] = ds['SibSp'] + ds['Parch'] + 1\n",
    "\n",
    "    # Sex\n",
    "    ds['Sex'] = ds['Sex'].map({'male': 0, 'female': 1}).astype(int)\n",
    "\n",
    "    ds = ds.drop(['PassengerId', 'Name', 'SibSp', 'Parch', 'Ticket', 'Cabin'], axis=1)\n",
    "    return ds.values"
   ]
  },
  {
   "cell_type": "code",
   "execution_count": 59,
   "metadata": {},
   "outputs": [],
   "source": [
    "train_x = preprocess(train_x)\n",
    "test_x = preprocess(test_x)"
   ]
  },
  {
   "cell_type": "code",
   "execution_count": 60,
   "metadata": {},
   "outputs": [
    {
     "output_type": "stream",
     "name": "stdout",
     "text": [
      "Test accuracy: 0.8268156424581006\n"
     ]
    }
   ],
   "source": [
    "rfc = RandomForestClassifier(random_state=0)\n",
    "rfc.fit(train_x, train_y)\n",
    "pred_y = rfc.predict(test_x)\n",
    "test_acc = (pred_y == test_y.squeeze()).mean()\n",
    "print('Test accuracy:', test_acc)"
   ]
  },
  {
   "source": [
    "# ** Question 9 **"
   ],
   "cell_type": "markdown",
   "metadata": {}
  },
  {
   "cell_type": "code",
   "execution_count": null,
   "metadata": {},
   "outputs": [],
   "source": []
  }
 ]
}