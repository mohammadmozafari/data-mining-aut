{
 "metadata": {
  "language_info": {
   "codemirror_mode": {
    "name": "ipython",
    "version": 3
   },
   "file_extension": ".py",
   "mimetype": "text/x-python",
   "name": "python",
   "nbconvert_exporter": "python",
   "pygments_lexer": "ipython3",
   "version": "3.7.3-final"
  },
  "orig_nbformat": 2,
  "kernelspec": {
   "name": "python3",
   "display_name": "Python 3",
   "language": "python"
  }
 },
 "nbformat": 4,
 "nbformat_minor": 2,
 "cells": [
  {
   "source": [
    "# ** Question 8 **"
   ],
   "cell_type": "markdown",
   "metadata": {}
  },
  {
   "cell_type": "code",
   "execution_count": 98,
   "metadata": {},
   "outputs": [],
   "source": [
    "import time\n",
    "import pandas as pd\n",
    "from sklearn.tree import DecisionTreeClassifier\n",
    "from sklearn.ensemble import RandomForestClassifier\n",
    "from sklearn.model_selection import train_test_split"
   ]
  },
  {
   "cell_type": "code",
   "execution_count": 99,
   "metadata": {},
   "outputs": [],
   "source": [
    "data_path = './titanic/train.csv'"
   ]
  },
  {
   "cell_type": "code",
   "execution_count": 100,
   "metadata": {},
   "outputs": [
    {
     "output_type": "stream",
     "name": "stdout",
     "text": [
      "train x shape: (712, 11)\ntrain y shape: (712, 1)\ntest x shape: (179, 11)\ntest y shape: (179, 1)\n"
     ]
    }
   ],
   "source": [
    "data = pd.read_csv(data_path)\n",
    "train, test = train_test_split(data, test_size=0.2, random_state=100)\n",
    "\n",
    "train_y = train[['Survived']]\n",
    "train_x = train.drop(['Survived'], axis=1)\n",
    "test_y = test[['Survived']]\n",
    "test_x = test.drop(['Survived'], axis=1)\n",
    "\n",
    "print('train x shape:', train_x.shape)\n",
    "print('train y shape:', train_y.shape)\n",
    "print('test x shape:', test_x.shape)\n",
    "print('test y shape:', test_y.shape)"
   ]
  },
  {
   "cell_type": "code",
   "execution_count": 101,
   "metadata": {},
   "outputs": [],
   "source": [
    "def preprocess(ds):\n",
    "\n",
    "    # Age\n",
    "    ds['Age'].fillna(ds['Age'].mean(), inplace=True)\n",
    "    ds.loc[ds['Age'] <= 16, 'Age'] = 0\n",
    "    ds.loc[(ds['Age'] > 16) & (ds['Age'] <= 32), 'Age'] = 1\n",
    "    ds.loc[(ds['Age'] > 32) & (ds['Age'] <= 48), 'Age'] = 2\n",
    "    ds.loc[(ds['Age'] > 48) & (ds['Age'] <= 64), 'Age'] = 3\n",
    "    ds.loc[ds['Age'] > 64, 'Age'] = 4\n",
    "    ds['Age'] = ds['Age'].astype(int)\n",
    "\n",
    "    # Fare\n",
    "    ds['Fare'].fillna(ds['Fare'].mean(), inplace=True)\n",
    "    ds.loc[ds['Fare'] <= 7.91, 'Fare'] = 0\n",
    "    ds.loc[(ds['Fare'] > 7.91) & (ds['Age'] <= 14.454), 'Fare'] = 1\n",
    "    ds.loc[(ds['Fare'] > 14.454) & (ds['Age'] <= 31), 'Fare'] = 2\n",
    "    ds.loc[ds['Fare'] > 31, 'Fare'] = 3\n",
    "    ds['Fare'] = ds['Fare'].astype(int)\n",
    "\n",
    "    # Embark\n",
    "    ds['Embarked'].fillna('S', inplace=True)\n",
    "    ds['Embarked'] = ds['Embarked'].map({'S': 0, 'C': 1, 'Q': 2}).astype(int)\n",
    "    \n",
    "    # FamilyMems & IsAlone\n",
    "    ds['FamilyMems'] = ds['SibSp'] + ds['Parch'] + 1\n",
    "\n",
    "    # Sex\n",
    "    ds['Sex'] = ds['Sex'].map({'male': 0, 'female': 1}).astype(int)\n",
    "\n",
    "    ds = ds.drop(['PassengerId', 'Name', 'SibSp', 'Parch', 'Ticket', 'Cabin'], axis=1)\n",
    "    return ds.values"
   ]
  },
  {
   "cell_type": "code",
   "execution_count": 102,
   "metadata": {},
   "outputs": [],
   "source": [
    "train_x = preprocess(train_x)\n",
    "test_x = preprocess(test_x)"
   ]
  },
  {
   "cell_type": "code",
   "execution_count": 111,
   "metadata": {},
   "outputs": [],
   "source": [
    "dep = 30\n",
    "criterion = 'gini'\n",
    "num_trees = 100\n",
    "rnd_state = 0"
   ]
  },
  {
   "cell_type": "code",
   "execution_count": 112,
   "metadata": {},
   "outputs": [
    {
     "output_type": "stream",
     "name": "stdout",
     "text": [
      "Random Forest\n\tTest accuracy: 0.8379888268156425\n\tTrain duration: 0.10272598266601562\n\nDecision Tree\n\tTest accuracy: 0.8044692737430168\n\tTrain duration: 0.0019948482513427734\n"
     ]
    }
   ],
   "source": [
    "rfc = RandomForestClassifier(max_depth=dep, criterion=criterion,  n_estimators=num_trees)\n",
    "dtc = DecisionTreeClassifier(max_depth=dep, criterion=criterion)\n",
    "\n",
    "start = time.time()\n",
    "rfc.fit(train_x, train_y)\n",
    "rfc_time = time.time() - start\n",
    "\n",
    "start =  time.time()\n",
    "dtc.fit(train_x, train_y)\n",
    "dtc_time = time.time() - start\n",
    "\n",
    "rfc_pred_y = rfc.predict(test_x)\n",
    "dtc_pred_y = dtc.predict(test_x)\n",
    "\n",
    "rfc_test_acc = (rfc_pred_y == test_y.squeeze()).mean()\n",
    "dtc_test_acc = (dtc_pred_y == test_y.squeeze()).mean()\n",
    "\n",
    "print('Random Forest')\n",
    "print('\\tTest accuracy:', rfc_test_acc)\n",
    "print('\\tTrain duration:', rfc_time)\n",
    "\n",
    "print('\\nDecision Tree')\n",
    "print('\\tTest accuracy:', dtc_test_acc)\n",
    "print('\\tTrain duration:', dtc_time)\n"
   ]
  },
  {
   "source": [
    "# ** Question 9 **"
   ],
   "cell_type": "markdown",
   "metadata": {}
  },
  {
   "cell_type": "code",
   "execution_count": 117,
   "metadata": {},
   "outputs": [],
   "source": [
    "from sklearn.svm import SVC"
   ]
  },
  {
   "cell_type": "code",
   "execution_count": 118,
   "metadata": {},
   "outputs": [
    {
     "output_type": "stream",
     "name": "stdout",
     "text": [
      "train x shape: (712, 11)\ntrain y shape: (712, 1)\ntest x shape: (179, 11)\ntest y shape: (179, 1)\n"
     ]
    }
   ],
   "source": [
    "data = pd.read_csv(data_path)\n",
    "train, test = train_test_split(data, test_size=0.2, random_state=100)\n",
    "\n",
    "train_y = train[['Survived']]\n",
    "train_x = train.drop(['Survived'], axis=1)\n",
    "test_y = test[['Survived']]\n",
    "test_x = test.drop(['Survived'], axis=1)\n",
    "\n",
    "print('train x shape:', train_x.shape)\n",
    "print('train y shape:', train_y.shape)\n",
    "print('test x shape:', test_x.shape)\n",
    "print('test y shape:', test_y.shape)"
   ]
  },
  {
   "cell_type": "code",
   "execution_count": 119,
   "metadata": {},
   "outputs": [],
   "source": [
    "train_x = preprocess(train_x)\n",
    "test_x = preprocess(test_x)"
   ]
  },
  {
   "cell_type": "code",
   "execution_count": 120,
   "metadata": {},
   "outputs": [
    {
     "output_type": "stream",
     "name": "stdout",
     "text": [
      "Linear Kernel\n\tTest accuracy: 0.7877094972067039\n\nNon-linear Kernel\n\tTest accuracy: 0.7932960893854749\n"
     ]
    }
   ],
   "source": [
    "linear_svm = SVC(kernel='linear')\n",
    "non_linear_svm = SVC(kernel='poly', degree=2)\n",
    "\n",
    "linear_svm.fit(train_x, train_y)\n",
    "non_linear_svm.fit(train_x, train_y)\n",
    "\n",
    "lin_pred = linear_svm.predict(test_x)\n",
    "nlin_pred = non_linear_svm.predict(test_x)\n",
    "\n",
    "lin_acc = (lin_pred == test_y.squeeze()).mean()\n",
    "nlin_acc = (nlin_pred == test_y.squeeze()).mean()\n",
    "\n",
    "print('Linear Kernel')\n",
    "print('\\tTest accuracy:', lin_acc)\n",
    "\n",
    "print('\\nNon-linear Kernel')\n",
    "print('\\tTest accuracy:', nlin_acc)\n"
   ]
  },
  {
   "cell_type": "code",
   "execution_count": null,
   "metadata": {},
   "outputs": [],
   "source": []
  }
 ]
}