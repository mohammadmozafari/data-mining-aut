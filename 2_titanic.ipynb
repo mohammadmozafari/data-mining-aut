{
 "metadata": {
  "language_info": {
   "codemirror_mode": {
    "name": "ipython",
    "version": 3
   },
   "file_extension": ".py",
   "mimetype": "text/x-python",
   "name": "python",
   "nbconvert_exporter": "python",
   "pygments_lexer": "ipython3",
   "version": "3.7.3-final"
  },
  "orig_nbformat": 2,
  "kernelspec": {
   "name": "python3",
   "display_name": "Python 3"
  }
 },
 "nbformat": 4,
 "nbformat_minor": 2,
 "cells": [
  {
   "source": [
    "# **Question 1**"
   ],
   "cell_type": "markdown",
   "metadata": {}
  },
  {
   "cell_type": "code",
   "execution_count": null,
   "metadata": {},
   "outputs": [],
   "source": [
    "import re\n",
    "import numpy as np\n",
    "import pandas as pd\n",
    "from sklearn import preprocessing\n",
    "from sklearn.tree import DecisionTreeClassifier"
   ]
  },
  {
   "cell_type": "code",
   "execution_count": null,
   "metadata": {},
   "outputs": [],
   "source": [
    "train_path = './titanic/train.csv'\n",
    "test_path = './titanic/test.csv'\n",
    "submission_path = './titanic/submission.csv'\n",
    "\n",
    "train_split = 0.8"
   ]
  },
  {
   "cell_type": "code",
   "execution_count": null,
   "metadata": {},
   "outputs": [],
   "source": [
    "def preprocess(ds):\n",
    "\n",
    "    # Age\n",
    "    ds['Age'].fillna(ds['Age'].mean(), inplace=True)\n",
    "    ds.loc[ds['Age'] <= 16, 'Age'] = 0\n",
    "    ds.loc[(ds['Age'] > 16) & (ds['Age'] <= 32), 'Age'] = 1\n",
    "    ds.loc[(ds['Age'] > 32) & (ds['Age'] <= 48), 'Age'] = 2\n",
    "    ds.loc[(ds['Age'] > 48) & (ds['Age'] <= 64), 'Age'] = 3\n",
    "    ds.loc[ds['Age'] > 64, 'Age'] = 4\n",
    "    ds['Age'] = ds['Age'].astype(int)\n",
    "\n",
    "    # Fare\n",
    "    ds['Fare'].fillna(ds['Fare'].mean(), inplace=True)\n",
    "    ds.loc[ds['Fare'] <= 7.91, 'Fare'] = 0\n",
    "    ds.loc[(ds['Fare'] > 7.91) & (ds['Age'] <= 14.454), 'Fare'] = 1\n",
    "    ds.loc[(ds['Fare'] > 14.454) & (ds['Age'] <= 31), 'Fare'] = 2\n",
    "    ds.loc[ds['Fare'] > 31, 'Fare'] = 3\n",
    "    ds['Fare'] = ds['Fare'].astype(int)\n",
    "\n",
    "    # Embark\n",
    "    ds['Embarked'].fillna('S', inplace=True)\n",
    "    ds['Embarked'] = ds['Embarked'].map({'S': 0, 'C': 1, 'Q': 2}).astype(int)\n",
    "    \n",
    "    # FamilyMems & IsAlone\n",
    "    ds['FamilyMems'] = ds['SibSp'] + ds['Parch'] + 1\n",
    "\n",
    "    # Sex\n",
    "    ds['Sex'] = ds['Sex'].map({'male': 0, 'female': 1}).astype(int)\n",
    "\n",
    "    # Convert to numpy array\n",
    "    y = ds['PassengerId']\n",
    "    if 'Survived' in ds.columns:\n",
    "        y = ds[['Survived']]\n",
    "        ds = ds.drop(['Survived'], axis=1)\n",
    "    x = ds.drop(['PassengerId', 'Name', 'Ticket', 'Cabin', 'SibSp', 'Parch'], axis=1)\n",
    "    print('Number of rows:', len(x))\n",
    "    return x.values, y.values.reshape((-1, ))\n",
    "\n",
    "# def validate()"
   ]
  },
  {
   "cell_type": "code",
   "execution_count": null,
   "metadata": {
    "tags": []
   },
   "outputs": [],
   "source": [
    "dataset = pd.read_csv(train_path)\n",
    "num_train = int(train_split*len(dataset))\n",
    "train_ds = dataset.iloc[:num_train]\n",
    "val_ds = dataset.iloc[num_train:]\n",
    "train_x, train_y = preprocess(train_ds)\n",
    "val_x, val_y = preprocess(val_ds)"
   ]
  },
  {
   "cell_type": "code",
   "execution_count": null,
   "metadata": {},
   "outputs": [],
   "source": [
    "max_depth = 5"
   ]
  },
  {
   "cell_type": "code",
   "execution_count": null,
   "metadata": {},
   "outputs": [],
   "source": [
    "dtc = DecisionTreeClassifier(max_depth=max_depth)\n",
    "dtc = dtc.fit(train_x, train_y)\n",
    "pred_y = dtc.predict(val_x)\n",
    "val_acc = (pred_y == val_y).mean()\n",
    "print('Validation accuracy:', val_acc)"
   ]
  },
  {
   "cell_type": "code",
   "execution_count": null,
   "metadata": {},
   "outputs": [],
   "source": [
    "train_x, train_y = preprocess(pd.read_csv(train_path))\n",
    "test_x, test_idx = preprocess(pd.read_csv(test_path))"
   ]
  },
  {
   "cell_type": "code",
   "execution_count": null,
   "metadata": {},
   "outputs": [],
   "source": [
    "dtc = DecisionTreeClassifier(max_depth=max_depth)\n",
    "dtc = dtc.fit(train_x, train_y)\n",
    "pred_y = dtc.predict(test_x)\n",
    "submission = np.stack((test_idx, pred_y), axis=1)\n",
    "submission = pd.DataFrame(data=submission, columns=['PassengerId', 'Survived'])\n",
    "submission.to_csv('./titanic/submission.csv', index=False)"
   ]
  },
  {
   "cell_type": "code",
   "execution_count": null,
   "metadata": {},
   "outputs": [],
   "source": [
    "!kaggle competitions submit -c titanic -f titanic/submission.csv -m \"Decision tree with feature engineering\""
   ]
  },
  {
   "source": [
    "# **Question 2**"
   ],
   "cell_type": "markdown",
   "metadata": {}
  },
  {
   "cell_type": "code",
   "execution_count": null,
   "metadata": {},
   "outputs": [],
   "source": []
  }
 ]
}