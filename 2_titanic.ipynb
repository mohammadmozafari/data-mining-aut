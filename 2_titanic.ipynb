{
 "metadata": {
  "language_info": {
   "codemirror_mode": {
    "name": "ipython",
    "version": 3
   },
   "file_extension": ".py",
   "mimetype": "text/x-python",
   "name": "python",
   "nbconvert_exporter": "python",
   "pygments_lexer": "ipython3",
   "version": "3.7.3-final"
  },
  "orig_nbformat": 2,
  "kernelspec": {
   "name": "python3",
   "display_name": "Python 3"
  }
 },
 "nbformat": 4,
 "nbformat_minor": 2,
 "cells": [
  {
   "source": [
    "# **Question 1**"
   ],
   "cell_type": "markdown",
   "metadata": {}
  },
  {
   "cell_type": "code",
   "execution_count": 75,
   "metadata": {},
   "outputs": [],
   "source": [
    "import numpy as np\n",
    "import pandas as pd\n",
    "from sklearn import preprocessing\n",
    "from sklearn.tree import DecisionTreeClassifier"
   ]
  },
  {
   "cell_type": "code",
   "execution_count": 55,
   "metadata": {},
   "outputs": [
    {
     "output_type": "stream",
     "name": "stdout",
     "text": [
      "Train X shape: (889, 7)\nTrain Y shape: (889,)\n"
     ]
    }
   ],
   "source": [
    "train_data = pd.read_csv('./titanic/train.csv')\n",
    "train_data = train_data[['Pclass', 'Sex', 'Age', 'SibSp', 'Parch', 'Fare', 'Embarked', 'Survived']]\n",
    "sex_le = preprocessing.LabelEncoder()\n",
    "embark_le = preprocessing.LabelEncoder()\n",
    "sex_le.fit(['male', 'female'])\n",
    "embark_le.fit(['S', 'C', 'Q'])\n",
    "train_data['Age'].fillna(train_data['Age'].mean(), inplace=True)\n",
    "train_data = train_data.dropna()\n",
    "train_data['Sex'] = sex_le.transform(train_data['Sex'])\n",
    "train_data['Embarked'] = embark_le.transform(train_data['Embarked'])\n",
    "train_x = train_data[['Pclass', 'Sex', 'Age', 'SibSp', 'Parch', 'Fare', 'Embarked']].values\n",
    "train_y = train_data[['Survived']].values.reshape((-1, ))\n",
    "print('Train X shape:', train_x.shape)\n",
    "print('Train Y shape:', train_y.shape)"
   ]
  },
  {
   "cell_type": "code",
   "execution_count": 52,
   "metadata": {},
   "outputs": [],
   "source": [
    "dtc = DecisionTreeClassifier()\n",
    "dtc = dtc.fit(train_x, train_y)"
   ]
  },
  {
   "cell_type": "code",
   "execution_count": 71,
   "metadata": {},
   "outputs": [
    {
     "output_type": "stream",
     "name": "stdout",
     "text": [
      "Test X shape: (418, 7)\nTest Y shape: (418,)\n"
     ]
    }
   ],
   "source": [
    "test_data = pd.read_csv('./titanic/test.csv')\n",
    "test_data = test_data[['Pclass', 'Sex', 'Age', 'SibSp', 'Parch', 'Fare', 'Embarked']]\n",
    "test_data['Sex'] = sex_le.transform(test_data['Sex'])\n",
    "test_data['Embarked'] = embark_le.transform(test_data['Embarked'])\n",
    "test_data['Age'].fillna(test_data['Age'].mean(), inplace=True)\n",
    "test_data['Fare'].fillna(test_data['Fare'].mean(), inplace=True)\n",
    "test_x = test_data.values\n",
    "test_y = pd.read_csv('./titanic/gender_submission.csv')[['Survived']].values.reshape((-1, ))\n",
    "print('Test X shape:', test_x.shape)\n",
    "print('Test Y shape:', test_y.shape)"
   ]
  },
  {
   "cell_type": "code",
   "execution_count": 78,
   "metadata": {},
   "outputs": [
    {
     "output_type": "stream",
     "name": "stdout",
     "text": [
      "Accuracy on test set: 0.7799043062200957\n"
     ]
    }
   ],
   "source": [
    "pred_y = dtc.predict(test_x)\n",
    "accuracy = np.average(1 * (pred_y == test_y))\n",
    "print('Accuracy on test set:', accuracy)"
   ]
  },
  {
   "source": [
    "# **Question 2**"
   ],
   "cell_type": "markdown",
   "metadata": {}
  },
  {
   "cell_type": "code",
   "execution_count": null,
   "metadata": {},
   "outputs": [],
   "source": []
  }
 ]
}