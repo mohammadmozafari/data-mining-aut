{
 "metadata": {
  "language_info": {
   "codemirror_mode": {
    "name": "ipython",
    "version": 3
   },
   "file_extension": ".py",
   "mimetype": "text/x-python",
   "name": "python",
   "nbconvert_exporter": "python",
   "pygments_lexer": "ipython3",
   "version": "3.7.3-final"
  },
  "orig_nbformat": 2,
  "kernelspec": {
   "name": "python3",
   "display_name": "Python 3"
  }
 },
 "nbformat": 4,
 "nbformat_minor": 2,
 "cells": [
  {
   "source": [
    "# **Question 1**"
   ],
   "cell_type": "markdown",
   "metadata": {}
  },
  {
   "cell_type": "code",
   "execution_count": null,
   "metadata": {},
   "outputs": [],
   "source": [
    "import re\n",
    "import numpy as np\n",
    "import pandas as pd\n",
    "from sklearn import preprocessing\n",
    "from sklearn.naive_bayes import GaussianNB\n",
    "from sklearn.tree import DecisionTreeClassifier\n",
    "from sklearn.neighbors import KNeighborsClassifier\n",
    "from sklearn.model_selection import train_test_split"
   ]
  },
  {
   "cell_type": "code",
   "execution_count": null,
   "metadata": {},
   "outputs": [],
   "source": [
    "train_path = './titanic/train.csv'\n",
    "test_path = './titanic/test.csv'\n",
    "submission_path = './titanic/submission.csv'\n",
    "\n",
    "test_split = 0.2"
   ]
  },
  {
   "cell_type": "code",
   "execution_count": null,
   "metadata": {},
   "outputs": [],
   "source": [
    "def preprocess(ds):\n",
    "\n",
    "    # Age\n",
    "    ds['Age'].fillna(ds['Age'].mean(), inplace=True)\n",
    "    ds.loc[ds['Age'] <= 16, 'Age'] = 0\n",
    "    ds.loc[(ds['Age'] > 16) & (ds['Age'] <= 32), 'Age'] = 1\n",
    "    ds.loc[(ds['Age'] > 32) & (ds['Age'] <= 48), 'Age'] = 2\n",
    "    ds.loc[(ds['Age'] > 48) & (ds['Age'] <= 64), 'Age'] = 3\n",
    "    ds.loc[ds['Age'] > 64, 'Age'] = 4\n",
    "    ds['Age'] = ds['Age'].astype(int)\n",
    "\n",
    "    # Fare\n",
    "    ds['Fare'].fillna(ds['Fare'].mean(), inplace=True)\n",
    "    ds.loc[ds['Fare'] <= 7.91, 'Fare'] = 0\n",
    "    ds.loc[(ds['Fare'] > 7.91) & (ds['Age'] <= 14.454), 'Fare'] = 1\n",
    "    ds.loc[(ds['Fare'] > 14.454) & (ds['Age'] <= 31), 'Fare'] = 2\n",
    "    ds.loc[ds['Fare'] > 31, 'Fare'] = 3\n",
    "    ds['Fare'] = ds['Fare'].astype(int)\n",
    "\n",
    "    # Embark\n",
    "    ds['Embarked'].fillna('S', inplace=True)\n",
    "    ds['Embarked'] = ds['Embarked'].map({'S': 0, 'C': 1, 'Q': 2}).astype(int)\n",
    "    \n",
    "    # FamilyMems & IsAlone\n",
    "    ds['FamilyMems'] = ds['SibSp'] + ds['Parch'] + 1\n",
    "\n",
    "    # Sex\n",
    "    ds['Sex'] = ds['Sex'].map({'male': 0, 'female': 1}).astype(int)\n",
    "\n",
    "    ds = ds.drop(['PassengerId', 'Name', 'SibSp', 'Parch', 'Ticket', 'Cabin'], axis=1)\n",
    "    return ds.values\n",
    "\n",
    "# def validate()"
   ]
  },
  {
   "cell_type": "code",
   "execution_count": null,
   "metadata": {
    "tags": []
   },
   "outputs": [],
   "source": [
    "dataset = pd.read_csv(train_path)\n",
    "train_ds, val_ds = train_test_split(dataset, test_size=test_split, random_state=0)\n",
    "\n",
    "train_x = preprocess(train_ds.drop(['Survived'], axis=1))\n",
    "train_y = train_ds['Survived'].values.reshape((-1, ))\n",
    "val_x = preprocess(val_ds.drop(['Survived'], axis=1))\n",
    "val_y = val_ds['Survived'].values.reshape((-1, ))\n",
    "\n",
    "print('train x shape:', train_x.shape)\n",
    "print('train y shape:', train_y.shape)\n",
    "print('test x shape:', val_x.shape)\n",
    "print('test y shape:', val_y.shape)"
   ]
  },
  {
   "cell_type": "code",
   "execution_count": null,
   "metadata": {},
   "outputs": [],
   "source": [
    "max_depth = 5"
   ]
  },
  {
   "cell_type": "code",
   "execution_count": null,
   "metadata": {},
   "outputs": [],
   "source": [
    "dtc = DecisionTreeClassifier(max_depth=max_depth)\n",
    "dtc = dtc.fit(train_x, train_y)\n",
    "pred_y = dtc.predict(val_x)\n",
    "val_acc = (pred_y == val_y).mean()\n",
    "print('Validation accuracy:', val_acc)"
   ]
  },
  {
   "cell_type": "code",
   "execution_count": null,
   "metadata": {},
   "outputs": [],
   "source": [
    "dataset = pd.read_csv(train_path)\n",
    "test_data = pd.read_csv(test_path)\n",
    "\n",
    "train_x = preprocess(dataset.drop(['Survived'], axis=1))\n",
    "train_y = dataset['Survived'].values.reshape((-1, ))\n",
    "test_idx = test_data['PassengerId'].values.reshape((-1, ))\n",
    "test_x = preprocess(test_data)"
   ]
  },
  {
   "cell_type": "code",
   "execution_count": null,
   "metadata": {},
   "outputs": [],
   "source": [
    "dtc = DecisionTreeClassifier(max_depth=max_depth)\n",
    "dtc = dtc.fit(train_x, train_y)\n",
    "pred_y = dtc.predict(test_x)\n",
    "submission = np.stack((test_idx, pred_y), axis=1)\n",
    "submission = pd.DataFrame(data=submission, columns=['PassengerId', 'Survived'])\n",
    "submission.to_csv('./titanic/submission.csv', index=False)"
   ]
  },
  {
   "cell_type": "code",
   "execution_count": null,
   "metadata": {},
   "outputs": [],
   "source": [
    "!kaggle competitions submit -c titanic -f titanic/submission.csv -m \"Decision tree with feature engineering\""
   ]
  },
  {
   "source": [
    "# **Question 2**"
   ],
   "cell_type": "markdown",
   "metadata": {}
  },
  {
   "cell_type": "code",
   "execution_count": null,
   "metadata": {},
   "outputs": [],
   "source": [
    "ds_path = './heart_disease_uci/heart.csv'\n",
    "test_split = 0.2"
   ]
  },
  {
   "cell_type": "code",
   "execution_count": null,
   "metadata": {},
   "outputs": [],
   "source": [
    "def preprocess(df):\n",
    "\n",
    "    df['age'] = (df['age'] - df['age'].mean()) / df['age'].std()\n",
    "    df['trestbps'] = (df['trestbps'] - df['trestbps'].mean()) / df['trestbps'].std()\n",
    "    df['chol'] = (df['chol'] - df['chol'].mean()) / df['chol'].std()\n",
    "\n",
    "    return df.values"
   ]
  },
  {
   "cell_type": "code",
   "execution_count": null,
   "metadata": {},
   "outputs": [],
   "source": [
    "dataset = pd.read_csv(ds_path)\n",
    "train_ds, val_ds = train_test_split(dataset, test_size=test_split, random_state=0)"
   ]
  },
  {
   "cell_type": "code",
   "execution_count": null,
   "metadata": {},
   "outputs": [],
   "source": [
    "train_x = preprocess(train_ds.drop(['target'], axis=1))\n",
    "train_y = train_ds['target'].values.reshape((-1, ))\n",
    "test_x = preprocess(test_ds.drop(['target'], axis=1))\n",
    "test_y = test_ds['target'].values.reshape((-1, ))\n",
    "\n",
    "print('Train X shape:', train_x.shape)\n",
    "print('Train Y shape:', train_y.shape)\n",
    "print('Test X shape:', test_x.shape)\n",
    "print('Test Y shape:', test_y.shape)"
   ]
  },
  {
   "cell_type": "code",
   "execution_count": null,
   "metadata": {},
   "outputs": [],
   "source": [
    "k = 4\n",
    "nn = KNeighborsClassifier(n_neighbors=k)\n",
    "nb = GaussianNB()\n",
    "nn.fit(train_x, train_y)\n",
    "nb.fit(train_x, train_y)"
   ]
  },
  {
   "cell_type": "code",
   "execution_count": null,
   "metadata": {},
   "outputs": [],
   "source": [
    "y_pred_nn = nn.predict(test_x)\n",
    "acc_nn = (y_pred_nn == test_y).mean()\n",
    "print('K Nearest Neighbor Accuracy:', acc_nn)"
   ]
  },
  {
   "cell_type": "code",
   "execution_count": null,
   "metadata": {},
   "outputs": [],
   "source": [
    "y_pred_nb = nb.predict(test_x)\n",
    "acc_nb = (y_pred_nb == test_y).mean()\n",
    "print('Naive Bayse Accuracy:', acc_nb)"
   ]
  },
  {
   "cell_type": "code",
   "execution_count": null,
   "metadata": {},
   "outputs": [],
   "source": []
  }
 ]
}